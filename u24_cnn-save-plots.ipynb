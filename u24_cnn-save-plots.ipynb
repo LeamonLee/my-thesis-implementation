{
 "cells": [
  {
   "cell_type": "markdown",
   "metadata": {},
   "source": [
    "## 其它測試資料"
   ]
  },
  {
   "cell_type": "code",
   "execution_count": 9,
   "metadata": {},
   "outputs": [
    {
     "name": "stdout",
     "output_type": "stream",
     "text": [
      "date\n",
      "2022-03-28    54537.0\n",
      "2022-03-29    21222.0\n",
      "2022-03-30    48535.0\n",
      "2022-03-31    18860.0\n",
      "2022-04-01    53178.0\n",
      "Name: 2330, dtype: float64\n",
      "                    上市合計  上市外資  上市外資及陸資  上市外資及陸資(不含外資自營商)    上市外資自營商  \\\n",
      "date                                                                   \n",
      "2022-03-28 -1.365239e+10   NaN      NaN     -1.259224e+10 -4996550.0   \n",
      "2022-03-29 -7.215555e+09   NaN      NaN     -8.311780e+09 -2466230.0   \n",
      "2022-03-30  2.981006e+10   NaN      NaN      2.202793e+10  8705420.0   \n",
      "2022-03-31  1.911423e+09   NaN      NaN      2.468588e+09 -9506310.0   \n",
      "2022-04-01 -9.948918e+09   NaN      NaN     -1.078100e+10 -4707990.0   \n",
      "\n",
      "                    上市投信  上市自營商   上市自營商(自行買賣)     上市自營商(避險)     上櫃三大法人合計*  \\\n",
      "date                                                                        \n",
      "2022-03-28 -1.395324e+08    NaN -6.394841e+07 -8.566696e+08 -5.728178e+08   \n",
      "2022-03-29  1.340264e+09    NaN -4.644206e+07 -1.975972e+08  1.463347e+09   \n",
      "2022-03-30  2.147817e+09    NaN  3.803191e+09  1.831122e+09  1.885494e+09   \n",
      "2022-03-31  5.077664e+08    NaN -1.635702e+08 -9.013620e+08 -2.047671e+09   \n",
      "2022-04-01  9.664506e+08    NaN -2.701310e+06 -1.316626e+08 -4.109846e+08   \n",
      "\n",
      "            ...  上櫃外資  上櫃外資及陸資  上櫃外資及陸資(不含自營商)     上櫃外資及陸資合計    上櫃外資自營商  \\\n",
      "date        ...                                                           \n",
      "2022-03-28  ...   NaN      NaN   -3.241901e+08 -3.225295e+08  1660620.0   \n",
      "2022-03-29  ...   NaN      NaN    1.418790e+09  1.414160e+09 -4629830.0   \n",
      "2022-03-30  ...   NaN      NaN    1.586152e+09  1.590294e+09  4142250.0   \n",
      "2022-03-31  ...   NaN      NaN   -1.352274e+09 -1.350896e+09  1377730.0   \n",
      "2022-04-01  ...   NaN      NaN   -6.328930e+08 -6.330672e+08  -174200.0   \n",
      "\n",
      "                   上櫃投信  上櫃自營商  上櫃自營商(自行買賣)    上櫃自營商(避險)      上櫃自營商合計  \n",
      "date                                                                   \n",
      "2022-03-28 -286303579.0    NaN  159458846.0 -121782987.0   37675859.0  \n",
      "2022-03-29   35343751.0    NaN  -18989717.0   28202189.0    9212472.0  \n",
      "2022-03-30  245455722.0    NaN -124346186.0  178233010.0   53886824.0  \n",
      "2022-03-31 -676936215.0    NaN   46217689.0  -64678882.0  -18461193.0  \n",
      "2022-04-01   -9096300.0    NaN  224832277.0    6172371.0  231004648.0  \n",
      "\n",
      "[5 rows x 21 columns]\n"
     ]
    }
   ],
   "source": [
    "\n",
    "# volume_df = data.get('intraday_trading_stat:當日沖銷交易總成交股數')\n",
    "# print(volume_df.head())\n",
    "# print(volume_df.tail())\n",
    "\n",
    "# data.get('stock_index_vol:成交股數')\n",
    "# data.get('stock_index_vol:成交筆數')\n",
    "volume_df = data.get('stock_index_vol:成交筆數')\n",
    "# print(volume_df.columns)\n",
    "print(volume_df['上市一般股票'].tail())\n",
    "print(volume_df['上櫃一般股票'].tail())\n",
    "print(volume_df['上市ETF'].tail())\n",
    "\n",
    "volume_df = data.get('price:成交筆數')\n",
    "print(volume_df['2330'].tail())\n",
    "\n",
    "chip_df = data.get('institutional_investors_trading_all_market_summary:買賣超')\n",
    "print(chip_df.tail())"
   ]
  },
  {
   "cell_type": "markdown",
   "metadata": {},
   "source": [
    "# Convolutional Neural Network"
   ]
  },
  {
   "cell_type": "markdown",
   "metadata": {},
   "source": [
    "## Data from finlab official API"
   ]
  },
  {
   "cell_type": "code",
   "execution_count": 1,
   "metadata": {},
   "outputs": [
    {
     "name": "stdout",
     "output_type": "stream",
     "text": [
      "輸入成功!\n"
     ]
    }
   ],
   "source": [
    "from finlab import data\n",
    "import finlab\n",
    "\n",
    "finlab.login(\"tiyybDDkjfj91vIexZCvLwL84ClFRIKE2yQwZBKP/dpT8FMnMdr9dxTKxwt29KjD#free\")"
   ]
  },
  {
   "cell_type": "code",
   "execution_count": 2,
   "metadata": {},
   "outputs": [
    {
     "name": "stdout",
     "output_type": "stream",
     "text": [
      "(5767, 1)\n",
      "                台股指數\n",
      "date                \n",
      "2022-04-12  16990.91\n",
      "2022-04-13  17301.65\n",
      "2022-04-14  17245.65\n",
      "2022-04-15  17004.18\n",
      "2022-04-18  16898.87\n",
      "date\n",
      "2022-04-12    16990.91\n",
      "2022-04-13    17301.65\n",
      "2022-04-14    17245.65\n",
      "2022-04-15    17004.18\n",
      "2022-04-18    16898.87\n",
      "Name: 台股指數, dtype: float64\n"
     ]
    }
   ],
   "source": [
    "# close_df = data.get('stock_index_price:收盤指數')\n",
    "# print(close_df.tail())\n",
    "twii_close_df = data.get('taiex_total_index:收盤指數')\n",
    "\n",
    "twii_df = twii_close_df.rename(columns={'TAIEX': '台股指數'})\n",
    "print(twii_df.shape)\n",
    "print(twii_df.tail())\n",
    "\n",
    "twii = twii_df['台股指數']\n",
    "print(twii.tail())"
   ]
  },
  {
   "cell_type": "markdown",
   "metadata": {},
   "source": [
    "## Data from finlab crawler"
   ]
  },
  {
   "cell_type": "code",
   "execution_count": 51,
   "metadata": {},
   "outputs": [
    {
     "name": "stdout",
     "output_type": "stream",
     "text": [
      "len(twii_df):  7178422\n",
      "len(twii):  75658\n",
      "date\n",
      "2006-01-02 09:00:00    6548.34\n",
      "2006-01-02 09:15:00    6478.09\n",
      "2006-01-02 09:30:00    6474.88\n",
      "2006-01-02 09:45:00    6471.12\n",
      "2006-01-02 10:00:00    6480.50\n",
      "Name: 台股指數, dtype: float64\n",
      "len(twii_df):  75658\n",
      "                        台股指數\n",
      "date                        \n",
      "2006-01-02 09:00:00  6548.34\n",
      "2006-01-02 09:15:00  6478.09\n",
      "2006-01-02 09:30:00  6474.88\n",
      "2006-01-02 09:45:00  6471.12\n",
      "2006-01-02 10:00:00  6480.50\n"
     ]
    }
   ],
   "source": [
    "import pandas as pd\n",
    "from finlab.data import Data\n",
    "data = Data()\n",
    "twii_df = data.get(\"發行量加權股價指數\")  # pandas dataframe\n",
    "print(\"len(twii_df): \", len(twii_df))\n",
    "\n",
    "twii = twii_df['台股指數'] # pandas series\n",
    "twii = twii.resample('15T').first().dropna()\n",
    "print(\"len(twii): \", len(twii))\n",
    "print(twii.head())\n",
    "\n",
    "twii_df = pd.DataFrame({'台股指數': twii})\n",
    "print(\"len(twii_df): \", len(twii_df))\n",
    "print(twii_df.head())"
   ]
  },
  {
   "cell_type": "code",
   "execution_count": 3,
   "metadata": {},
   "outputs": [
    {
     "name": "stdout",
     "output_type": "stream",
     "text": [
      "twii_df.iloc[0]:  6152.43\n",
      "twii_df.iloc[-1]:  16898.87\n",
      "\n",
      "twii_df_train.iloc[0]:  6152.43\n",
      "twii_df_train.iloc[-1]:  9736.73\n",
      "\n",
      "twii_df_validation.iloc[0]:  9749.69\n",
      "twii_df_validation.iloc[-1]:  11617.08\n",
      "\n",
      "twii_df_test.iloc[0]:  11489.57\n",
      "twii_df_test.iloc[-1]:  16898.87\n",
      "\n",
      "train_start: 0, train_end: 4036, val_start:4036, val_end:5189, test_start:5189\n",
      "len(twii_df_train):  4036\n",
      "len(twii_df_validation):  1153\n",
      "len(twii_df_test):  578\n",
      "total number:  5767\n"
     ]
    }
   ],
   "source": [
    "# import datetime\n",
    "# twii_df_train = twii_df[twii_df.index <datetime.datetime(2016,1,1)]\n",
    "\n",
    "def train_val_test_split(twii_df):\n",
    "    total_num = len(twii_df)\n",
    "    train_num = int(total_num * 0.7)\n",
    "    validation_num = int(total_num * 0.2)\n",
    "    test_num = total_num - train_num - validation_num\n",
    "\n",
    "    train_end_index = train_num\n",
    "    \n",
    "    val_start_index = train_end_index\n",
    "    val_end_index = train_num+validation_num\n",
    "    \n",
    "    test_start_index = val_end_index\n",
    "    \n",
    "    twii_df_train = twii_df.iloc[:train_end_index]\n",
    "    twii_df_validation = twii_df.iloc[val_start_index:val_end_index]\n",
    "    twii_df_test = twii_df.iloc[test_start_index:]\n",
    "\n",
    "    print(\"twii_df.iloc[0]: \", twii_df.iloc[0])\n",
    "    print(\"twii_df.iloc[-1]: \", twii_df.iloc[-1])\n",
    "    print()\n",
    "    \n",
    "    print(\"twii_df_train.iloc[0]: \", twii_df_train.iloc[0])\n",
    "    print(\"twii_df_train.iloc[-1]: \", twii_df_train.iloc[-1])\n",
    "    print()\n",
    "    \n",
    "    print(\"twii_df_validation.iloc[0]: \", twii_df_validation.iloc[0])\n",
    "    print(\"twii_df_validation.iloc[-1]: \", twii_df_validation.iloc[-1])\n",
    "    print()\n",
    "    \n",
    "    print(\"twii_df_test.iloc[0]: \", twii_df_test.iloc[0])\n",
    "    print(\"twii_df_test.iloc[-1]: \", twii_df_test.iloc[-1])\n",
    "    print()\n",
    "    \n",
    "    print(f\"train_start: {0}, train_end: {train_end_index}, val_start:{val_start_index}, val_end:{val_end_index}, test_start:{val_end_index}\")\n",
    "    print(\"len(twii_df_train): \", len(twii_df_train))\n",
    "    print(\"len(twii_df_validation): \", len(twii_df_validation))\n",
    "    print(\"len(twii_df_test): \", len(twii_df_test))\n",
    "    \n",
    "    print(\"total number: \", len(twii_df_train)+len(twii_df_validation)+len(twii_df_test))\n",
    "\n",
    "    return twii_df_train, twii_df_validation, twii_df_test\n",
    "    \n",
    "twii_df_train, twii_df_validation, twii_df_test = train_val_test_split(twii_df['台股指數'])"
   ]
  },
  {
   "cell_type": "code",
   "execution_count": 31,
   "metadata": {},
   "outputs": [
    {
     "name": "stdout",
     "output_type": "stream",
     "text": [
      "len(investTrust_df):  1237\n",
      "stock_id        0050  0051  0052  0053  0054      0055       0056  0057  0058  \\\n",
      "date                                                                            \n",
      "2022-02-21       NaN   NaN   NaN   NaN   NaN       NaN        NaN   NaN   NaN   \n",
      "2022-02-22       NaN   NaN   NaN   NaN   NaN       NaN  3000000.0   NaN   NaN   \n",
      "2022-02-23       NaN   NaN   NaN   NaN   NaN       NaN        NaN   NaN   NaN   \n",
      "2022-02-24   36000.0   NaN   NaN   NaN   NaN   60000.0        NaN   NaN   NaN   \n",
      "2022-02-25 -500000.0   NaN   NaN   NaN   NaN  100000.0        NaN   NaN   NaN   \n",
      "\n",
      "stock_id    0059  ...  9944    9945  9946  9949  9950  9951  9955   9958  \\\n",
      "date              ...                                                      \n",
      "2022-02-21   NaN  ...   NaN  -993.0   NaN   NaN   NaN   NaN   NaN -246.0   \n",
      "2022-02-22   NaN  ...   NaN     NaN   NaN   NaN   NaN   NaN   NaN    NaN   \n",
      "2022-02-23   NaN  ...   NaN     NaN   NaN   NaN   NaN   NaN   NaN    NaN   \n",
      "2022-02-24   NaN  ...   NaN     NaN   NaN   NaN   NaN   NaN   NaN    NaN   \n",
      "2022-02-25   NaN  ...   NaN -1000.0   NaN   NaN   NaN   NaN   NaN    NaN   \n",
      "\n",
      "stock_id    9960  9962  \n",
      "date                    \n",
      "2022-02-21   NaN   NaN  \n",
      "2022-02-22   NaN   NaN  \n",
      "2022-02-23   NaN   NaN  \n",
      "2022-02-24   NaN   NaN  \n",
      "2022-02-25   NaN   NaN  \n",
      "\n",
      "[5 rows x 1842 columns]\n"
     ]
    }
   ],
   "source": [
    "# investTrust_df = data.get(\"投信買賣超股數\")  # pandas dataframe from 'bargin_report' table\n",
    "# print(\"len(investTrust_df): \", len(investTrust_df))\n",
    "# print(investTrust_df.head())\n",
    "# print(investTrust_df.tail())\n"
   ]
  },
  {
   "cell_type": "markdown",
   "metadata": {},
   "source": [
    "## 製作features"
   ]
  },
  {
   "cell_type": "code",
   "execution_count": 4,
   "metadata": {},
   "outputs": [],
   "source": [
    "import numpy as np\n",
    "import tqdm\n",
    "import matplotlib.pyplot as plt\n",
    "%matplotlib inline\n",
    "\n",
    "def convertDf2CNNData(stockPrice_series, time_period=20, predict_point=5, data_point_day=18, sliding_movement=4):\n",
    "    # # 1分K，以15分鐘取一次sample，一天4小時30分鐘，所以一天總共會有18筆資料，一個月20個交易日，共360點\n",
    "    # buy_point = time_period - 1   # 看過去的360點(20天)股價做買入決定，所以剛好在第20天買，但陣列索引從0開始，所以是在360-1=359買入。\n",
    "    # sell_point = 5 * 18  # 1天18筆資料，假設5天後賣出，就是90筆資料;假設10天後賣出，就是180筆資料\n",
    "    \n",
    "    # 日K，所以一天1筆資料，一個月20個交易日，共20點\n",
    "    # buy_point = time_period - 1   # 看過去的20點(20天)股價做買入決定，所以剛好在第20天買，但陣列索引從0開始，所以是在20-1=19買入。\n",
    "    # sell_point = 5  # 1天1筆資料，假設5天後賣出，就是5筆資料;假設10天後賣出，就是10筆資料\n",
    "    \n",
    "    total_data_point = time_period * data_point_day\n",
    "    buy_point = (total_data_point) - 1   # 看過去的20點(20天)股價做買入決定，所以剛好在第20天買，但陣列索引從0開始，所以是在20-1=19買入。\n",
    "    sell_point = predict_point * data_point_day  # 1天1筆資料，假設5天後賣出，就是5筆資料;假設10天後賣出，就是10筆資料\n",
    "    \n",
    "    cnn_x = []\n",
    "    cnn_y = []\n",
    "    cnn_y_mean = []\n",
    "    buy_date_indexs = []\n",
    "    \n",
    "    finish_point = len(stockPrice_series) - buy_point - sell_point\n",
    "    for i in tqdm.tqdm_notebook(range(0, finish_point, sliding_movement)): # 因為sliding window如果每次只移動一小格，會造成很多看似一樣的圖，所以改每次移動四個sample point(1小時)。\n",
    "        s = stockPrice_series.iloc[i:i+total_data_point].values\n",
    "        # cnn_x.append((s - s.min())/(s.max() - s.min())) # 存成GAF的徒不需要做normalize的動作，GAF本身就會轉了。\n",
    "        cnn_x.append(s)\n",
    "        \n",
    "        sell_point_index = i+buy_point+sell_point\n",
    "        r = stockPrice_series.iloc[sell_point_index] / stockPrice_series.iloc[i+buy_point] # 在sliding window最後一個時間點決定要買，所以是-1。在10天後決定要賣，所以是+10\n",
    "        cnn_y.append(r)\n",
    "        \n",
    "        next_nDays_df = stockPrice_series.iloc[i+buy_point+1:sell_point_index+1]\n",
    "        next_nDays_mean = next_nDays_df.mean()\n",
    "        r_mean = next_nDays_mean / stockPrice_series.iloc[i+buy_point]\n",
    "        cnn_y_mean.append(r_mean)\n",
    "        \n",
    "        buy_date_indexs.append(stockPrice_series.index[i+buy_point])\n",
    "\n",
    "    cnn_x = np.array(cnn_x)\n",
    "    cnn_y = np.array(cnn_y)\n",
    "    cnn_y_mean = np.array(cnn_y_mean)\n",
    "    buy_date_indexs = np.array(buy_date_indexs)\n",
    "\n",
    "    plt.plot(cnn_x[0])\n",
    "\n",
    "    # print(f\"cnn_x[0]: {cnn_x[0]}\")\n",
    "    print(f\"cnn_y[0]: {cnn_y[0]}\")\n",
    "    print(f\"buy_date_indexs[0]: {buy_date_indexs[0]}\")\n",
    "\n",
    "    print(f\"cnn_x.shape: {cnn_x.shape}\")\n",
    "    print(f\"cnn_y.shape: {cnn_y.shape}\")\n",
    "    print(f\"cnn_y_mean.shape: {cnn_y_mean.shape}\")\n",
    "    print(f\"buy_date_indexs.shape: {buy_date_indexs.shape}\")\n",
    "\n",
    "    print(f\"len(stockPrice_series): {len(stockPrice_series)}\")\n",
    "    print(f\"buy_date_indexs[0]: {buy_date_indexs[0]}\")\n",
    "    print(f\"buy_date_indexs[-1]: {buy_date_indexs[-1]}\")\n",
    "    \n",
    "    return cnn_x, cnn_y, cnn_y_mean, buy_date_indexs\n"
   ]
  },
  {
   "cell_type": "markdown",
   "metadata": {},
   "source": [
    "## 測試convertDf2CNNData function"
   ]
  },
  {
   "cell_type": "code",
   "execution_count": 9,
   "metadata": {},
   "outputs": [
    {
     "name": "stderr",
     "output_type": "stream",
     "text": [
      "C:\\Users\\LEAMON~1\\AppData\\Local\\Temp/ipykernel_30728/1267923627.py:25: TqdmDeprecationWarning: This function will be removed in tqdm==5.0.0\n",
      "Please use `tqdm.notebook.tqdm` instead of `tqdm.tqdm_notebook`\n",
      "  for i in tqdm.tqdm_notebook(range(0, finish_point, sliding_movement)): # 因為sliding window如果每次只移動一小格，會造成很多看似一樣的圖，所以改每次移動四個sample point(1小時)。\n"
     ]
    },
    {
     "data": {
      "application/vnd.jupyter.widget-view+json": {
       "model_id": "fd8676547fba4bb0a7b3a8c2dec7b3f7",
       "version_major": 2,
       "version_minor": 0
      },
      "text/plain": [
       "  0%|          | 0/1916 [00:00<?, ?it/s]"
      ]
     },
     "metadata": {},
     "output_type": "display_data"
    },
    {
     "name": "stdout",
     "output_type": "stream",
     "text": [
      "cnn_y[0]: 0.9607684358274335\n",
      "buy_date_indexs[0]: 1999-01-16 00:00:00\n",
      "cnn_x.shape: (1916, 10)\n",
      "cnn_y.shape: (1916,)\n",
      "cnn_y_mean.shape: (1916,)\n",
      "buy_date_indexs.shape: (1916,)\n",
      "len(stockPrice_series): 5761\n",
      "buy_date_indexs[0]: 1999-01-16 00:00:00\n",
      "buy_date_indexs[-1]: 2022-03-29 00:00:00\n",
      "buy_date_indexs:  [Timestamp('2022-03-11 00:00:00') Timestamp('2022-03-16 00:00:00')\n",
      " Timestamp('2022-03-21 00:00:00') Timestamp('2022-03-24 00:00:00')\n",
      " Timestamp('2022-03-29 00:00:00')]\n",
      "cnn_y.max():  1.1663811654272553\n",
      "cnn_y.min():  0.8393593081692365\n",
      "cnn_y.mean():  1.0013180302971048\n",
      "cnn_y_mean.max():  1.0988208831953892\n",
      "cnn_y_mean.min():  0.8982629489386117\n",
      "cnn_y_mean.mean():  1.000906981405897\n"
     ]
    },
    {
     "data": {
      "image/png": "[encoded data removed]",
      "text/plain": [
       "<Figure size 432x288 with 1 Axes>"
      ]
     },
     "metadata": {
      "needs_background": "light"
     },
     "output_type": "display_data"
    }
   ],
   "source": [
    "cnn_x, cnn_y, cnn_y_mean, buy_date_indexs = convertDf2CNNData(twii, 10,5,1,3)\n",
    "print(\"buy_date_indexs: \", buy_date_indexs[-5:])\n",
    "\n",
    "print(\"cnn_y.max(): \", cnn_y.max())\n",
    "print(\"cnn_y.min(): \", cnn_y.min())\n",
    "print(\"cnn_y.mean(): \", cnn_y.mean())\n",
    "\n",
    "print(\"cnn_y_mean.max(): \", cnn_y_mean.max())\n",
    "print(\"cnn_y_mean.min(): \", cnn_y_mean.min())\n",
    "print(\"cnn_y_mean.mean(): \", cnn_y_mean.mean())\n"
   ]
  },
  {
   "cell_type": "markdown",
   "metadata": {},
   "source": [
    "## Leamon Label Data Method1:\n",
    "## by directly looking back n days of stock price, and then predict m days later in the future."
   ]
  },
  {
   "cell_type": "code",
   "execution_count": 5,
   "metadata": {},
   "outputs": [],
   "source": [
    "def labelDataWithHold(cnn_y):\n",
    "    # Define Threshold\n",
    "    upperBound = 1.01\n",
    "    lowerBound = 0.99\n",
    "\n",
    "    print(f\"cnn_y[:10]: {cnn_y[:10]}\")\n",
    "\n",
    "    # Hold\n",
    "    cond_hold = (cnn_y > lowerBound)&(cnn_y < upperBound)\n",
    "    cnn_y_label = np.where(cond_hold, 0, cnn_y)\n",
    "    print(f\"cnn_y_label[:10]: {cnn_y_label[:10]}\")\n",
    "\n",
    "    # Up\n",
    "    cond_up = cnn_y >= upperBound\n",
    "    cnn_y_label = np.where(cond_up, 1, cnn_y_label)\n",
    "    print(f\"cnn_y_label[:10]: {cnn_y_label[:10]}\")\n",
    "\n",
    "    # Down\n",
    "    cond_down = cnn_y <= lowerBound\n",
    "    cnn_y_label = np.where(cond_down, 2, cnn_y_label)\n",
    "    print(f\"cnn_y_label[:10]: {cnn_y_label[:10]}\")\n",
    "\n",
    "    print(f\"The number of cond_hold: {np.sum(cond_hold)}\")\n",
    "    print(f\"The number of cond_up: {np.sum(cond_up)}\")\n",
    "    print(f\"The number of cond_dwon: {np.sum(cond_down)}\")\n",
    "\n",
    "    # cnn_y_label = cnn_y_label.astype(int)\n",
    "    # print(cnn_y_label.dtype)\n",
    "\n",
    "    # np.savetxt(\"y_ori_dataset.csv\", cnn_y, delimiter=\",\", fmt='%1.3f')\n",
    "    # np.savetxt(\"y_label_dataset.csv\", cnn_y_label, delimiter=\",\", fmt='%d')\n",
    "    \n",
    "    return cnn_y_label\n",
    "    \n",
    "def labelDataWithoutHold(cnn_y):\n",
    "    \n",
    "    print(cnn_y[:10])\n",
    "    threshold = 1.02    # 漲超過2%才算漲，否則都算跌 \n",
    "    \n",
    "    # Up\n",
    "    cond_up = cnn_y >= threshold\n",
    "    cnn_y_label = np.where(cond_up, 1, cnn_y)\n",
    "    print(cnn_y_label[:10])\n",
    "\n",
    "    # Down\n",
    "    cond_down = cnn_y < threshold\n",
    "    cnn_y_label = np.where(cond_down, 2, cnn_y_label)\n",
    "    print(cnn_y_label[:10])\n",
    "\n",
    "    print(f\"The number of cond_up: {np.sum(cond_up)}\")\n",
    "    print(f\"The number of cond_dwon: {np.sum(cond_down)}\")\n",
    "\n",
    "    # cnn_y_label = cnn_y_label.astype(int)\n",
    "    # print(cnn_y_label.dtype)\n",
    "\n",
    "    # np.savetxt(\"y_ori_dataset.csv\", cnn_y, delimiter=\",\", fmt='%1.3f')\n",
    "    # np.savetxt(\"y_label_dataset.csv\", cnn_y_label, delimiter=\",\", fmt='%d')\n",
    "    return cnn_y_label\n",
    "    "
   ]
  },
  {
   "cell_type": "code",
   "execution_count": 12,
   "metadata": {},
   "outputs": [
    {
     "name": "stdout",
     "output_type": "stream",
     "text": [
      "*********************\n",
      "cnn_y[:10]: [0.96076844 0.9727701  0.99421701 0.94729863 0.97396973 1.05133557\n",
      " 1.06147368 1.04054292 1.02633009 1.01734405]\n",
      "cnn_y_label[:10]: [0.96076844 0.9727701  0.         0.94729863 0.97396973 1.05133557\n",
      " 1.06147368 1.04054292 1.02633009 1.01734405]\n",
      "cnn_y_label[:10]: [0.96076844 0.9727701  0.         0.94729863 0.97396973 1.\n",
      " 1.         1.         1.         1.        ]\n",
      "cnn_y_label[:10]: [2. 2. 0. 2. 2. 1. 1. 1. 1. 1.]\n",
      "The number of cond_hold: 613\n",
      "The number of cond_up: 732\n",
      "The number of cond_dwon: 571\n",
      "*********************\n",
      "cnn_y[:10]: [0.97457992 0.97766717 1.00444838 0.96772641 0.96177281 1.03464185\n",
      " 1.03344439 1.03181118 1.01213777 1.00963175]\n",
      "cnn_y_label[:10]: [0.97457992 0.97766717 0.         0.96772641 0.96177281 1.03464185\n",
      " 1.03344439 1.03181118 1.01213777 0.        ]\n",
      "cnn_y_label[:10]: [0.97457992 0.97766717 0.         0.96772641 0.96177281 1.\n",
      " 1.         1.         1.         0.        ]\n",
      "cnn_y_label[:10]: [2. 2. 0. 2. 2. 1. 1. 1. 1. 0.]\n",
      "The number of cond_hold: 908\n",
      "The number of cond_up: 560\n",
      "The number of cond_dwon: 448\n"
     ]
    },
    {
     "data": {
      "text/plain": [
       "array([2., 2., 0., ..., 0., 0., 0.])"
      ]
     },
     "execution_count": 12,
     "metadata": {},
     "output_type": "execute_result"
    }
   ],
   "source": [
    "# labelDataWithoutHold(cnn_y)\n",
    "print(\"*********************\")\n",
    "# labelDataWithoutHold(cnn_y_mean)\n",
    "\n",
    "labelDataWithHold(cnn_y)\n",
    "print(\"*********************\")\n",
    "labelDataWithHold(cnn_y_mean)"
   ]
  },
  {
   "cell_type": "markdown",
   "metadata": {},
   "source": [
    "## Leamon Label Data Method2: \n",
    "## by looking back n days of stock price, and see if price in the middle of sliding windows is suiting for selling, buying or holding."
   ]
  },
  {
   "cell_type": "code",
   "execution_count": null,
   "metadata": {
    "scrolled": true,
    "tags": []
   },
   "outputs": [],
   "source": [
    "# import numpy as np\n",
    "# import tqdm\n",
    "# import multiprocessing\n",
    "# import concurrent.futures\n",
    "# import cnn_label_creator\n",
    "\n",
    "# if __name__ == \"__main__\":\n",
    "#     cpuUseRate = 1\n",
    "#     cpuCount = int(multiprocessing.cpu_count() * cpuUseRate)\n",
    "#     print(\"cpuCount: \", cpuCount)\n",
    "#     with concurrent.futures.ProcessPoolExecutor(max_workers=cpuCount) as executor:\n",
    "#         # pbar = tqdm.tqdm_notebook(total=12)\n",
    "#         label_creator = cnn_label_creator.CNN_Label_Creator(twii_df, \"台股指數\", 360)\n",
    "#         labels_y = executor.map(label_creator.fake_create_labels, [1,2,3,4,5,6,7,8,9,10,11,12])\n",
    "#         print(\"concurrent.futures finished\")\n",
    "#     list(labels_y)"
   ]
  },
  {
   "cell_type": "code",
   "execution_count": null,
   "metadata": {},
   "outputs": [],
   "source": [
    "import numpy as np\n",
    "import tqdm\n",
    "import multiprocessing\n",
    "import concurrent.futures\n",
    "import cnn_label_creator\n",
    "\n",
    "def labelDataWithBuySellHold(df):\n",
    "    cpuUseRate = 1\n",
    "    cpuCount = int(multiprocessing.cpu_count() * cpuUseRate)\n",
    "    print(\"cpuCount: \", cpuCount)\n",
    "\n",
    "    stock_price_list = []\n",
    "    totalNumsOfDatas = len(df)\n",
    "    dividedNumOfDatas = int(totalNumsOfDatas / cpuCount)\n",
    "    startIndex = 0\n",
    "    finishIndex = 0\n",
    "\n",
    "    print(\"totalNumsOfDatas: \", totalNumsOfDatas)\n",
    "    for i in range(cpuCount):\n",
    "        finishIndex += dividedNumOfDatas\n",
    "        # print(\"startIndex: \", startIndex)\n",
    "        # print(\"finishIndex: \", finishIndex)\n",
    "        # print()\n",
    "\n",
    "        if finishIndex > totalNumsOfDatas or (i == (cpuCount-1)):\n",
    "            stock_price_list.append(df[startIndex:]['台股指數'])\n",
    "            # print(f\"startIndex: {startIndex} to the end\")\n",
    "        else:\n",
    "            stock_price_list.append(df[startIndex:finishIndex]['台股指數'])\n",
    "        startIndex = finishIndex\n",
    "\n",
    "    with concurrent.futures.ProcessPoolExecutor(max_workers=cpuCount) as executor:\n",
    "        label_creator = cnn_label_creator.CNN_Label_Creator(df, \"台股指數\", 11)\n",
    "        labels_y = executor.map(label_creator.create_labels, stock_price_list)\n",
    "        print(\"concurrent.futures finished\")\n",
    "\n",
    "    print(\"createLabels finished\")\n",
    "    labels_y = list(labels_y)\n",
    "    np_labels_y = np.concatenate(labels_y)\n",
    "    return np_labels_y\n"
   ]
  },
  {
   "cell_type": "code",
   "execution_count": 29,
   "metadata": {},
   "outputs": [
    {
     "name": "stdout",
     "output_type": "stream",
     "text": [
      "75658\n",
      "The number of cond_hold: 66337\n",
      "The number of cond_up: 4587\n",
      "The number of cond_dwon: 4614\n"
     ]
    }
   ],
   "source": [
    "\n",
    "if __name__ == \"__main__\":\n",
    "    cnn_labels_y = labelDataWithBuySellHold(twii_df)\n",
    "    cond_hold = cnn_labels_y == 2\n",
    "    cond_buy = cnn_labels_y == 1\n",
    "    cond_sell = cnn_labels_y == 0\n",
    "\n",
    "    print(f\"The number of cond_hold: {np.sum(cond_hold)}\")\n",
    "    print(f\"The number of cond_up: {np.sum(cond_buy)}\")\n",
    "    print(f\"The number of cond_dwon: {np.sum(cond_sell)}\")\n"
   ]
  },
  {
   "cell_type": "markdown",
   "metadata": {},
   "source": [
    "## Save Plots"
   ]
  },
  {
   "cell_type": "code",
   "execution_count": 6,
   "metadata": {},
   "outputs": [
    {
     "data": {
      "text/plain": [
       "<Figure size 432x288 with 0 Axes>"
      ]
     },
     "metadata": {},
     "output_type": "display_data"
    }
   ],
   "source": [
    "from matplotlib import image\n",
    "import os,time\n",
    "from pyts.image import  GramianAngularField\n",
    "\n",
    "figure = plt.gcf() # get current figure\n",
    "figure.set_size_inches(6, 4)\n",
    "\n",
    "def saveCNNInputImage(cnn_x, cnn_y_label, buy_date_index, purpose, im_size, saveImage=False):\n",
    "    save_path = f'.\\\\my_thesis\\\\dataset_{im_size}x{im_size}'\n",
    "    save_raw_path = f'.\\\\my_thesis\\\\raw_data_{im_size}x{im_size}'\n",
    "    if not os.path.exists(save_path):\n",
    "        os.mkdir(save_path)\n",
    "    \n",
    "    if not os.path.exists(save_raw_path):\n",
    "        os.mkdir(save_raw_path)\n",
    "    \n",
    "    save_path = os.path.join(save_path, purpose)\n",
    "    save_raw_path = os.path.join(save_raw_path, purpose)\n",
    "    if not os.path.exists(save_path):\n",
    "        os.mkdir(save_path)\n",
    "    \n",
    "    if not os.path.exists(save_raw_path):\n",
    "        os.mkdir(save_raw_path)\n",
    "    \n",
    "    gadf = GramianAngularField(image_size=im_size, method='difference')\n",
    "    for i in tqdm.tqdm_notebook(range(len(cnn_x))):\n",
    "\n",
    "        stockData = cnn_x[i].reshape(1,-1)\n",
    "        GAF_gadf = gadf.fit_transform(stockData)\n",
    "        im = GAF_gadf[0]\n",
    "        \n",
    "        y_label = int(cnn_y_label[i])\n",
    "        className = \"hold\"\n",
    "        if y_label == 1:\n",
    "            className = \"up\"\n",
    "        elif y_label == 2:\n",
    "            className = \"down\"\n",
    "        \n",
    "        dirName = os.path.join(save_path, className)\n",
    "        if not os.path.exists(dirName):\n",
    "            os.mkdir(dirName)\n",
    "        \n",
    "        if saveImage:\n",
    "            fileName = os.path.join(dirName, f'{i}.jpg')\n",
    "            image.imsave(fileName, im, cmap='rainbow', origin='lower')\n",
    "        else:\n",
    "            fileName = os.path.join(dirName, f'{i}.npy')\n",
    "            np.save(fileName, im)\n",
    "        \n",
    "        # Just for verify purpose start\n",
    "        if i < 20:\n",
    "        # if i >= 0:\n",
    "            dirRawName = os.path.join(save_raw_path, className)\n",
    "            if not os.path.exists(dirRawName):\n",
    "                os.mkdir(dirRawName)\n",
    "            fileRawName = os.path.join(dirRawName, f'{i}.jpg')\n",
    "            \n",
    "            plt.plot(cnn_x[i])\n",
    "            # plt.ioff() # 為了不要顯示出來\n",
    "            plt.savefig(fileRawName, dpi=100)\n",
    "            plt.clf() # 清除上一張圖片\n",
    "            # plt.close(figure)\n",
    "        # Just for verify purpose end\n",
    "\n",
    "    print(f\"{purpose} Done\")\n",
    "\n"
   ]
  },
  {
   "cell_type": "code",
   "execution_count": 7,
   "metadata": {},
   "outputs": [
    {
     "name": "stdout",
     "output_type": "stream",
     "text": [
      "twii_df.iloc[0]:  6152.43\n",
      "twii_df.iloc[-1]:  16898.87\n",
      "\n",
      "twii_df_train.iloc[0]:  6152.43\n",
      "twii_df_train.iloc[-1]:  9736.73\n",
      "\n",
      "twii_df_validation.iloc[0]:  9749.69\n",
      "twii_df_validation.iloc[-1]:  11617.08\n",
      "\n",
      "twii_df_test.iloc[0]:  11489.57\n",
      "twii_df_test.iloc[-1]:  16898.87\n",
      "\n",
      "train_start: 0, train_end: 4036, val_start:4036, val_end:5189, test_start:5189\n",
      "len(twii_df_train):  4036\n",
      "len(twii_df_validation):  1153\n",
      "len(twii_df_test):  578\n",
      "total number:  5767\n",
      "purpose train starts: \n"
     ]
    },
    {
     "name": "stderr",
     "output_type": "stream",
     "text": [
      "C:\\Users\\LEAMON~1\\AppData\\Local\\Temp/ipykernel_10276/1267923627.py:25: TqdmDeprecationWarning: This function will be removed in tqdm==5.0.0\n",
      "Please use `tqdm.notebook.tqdm` instead of `tqdm.tqdm_notebook`\n",
      "  for i in tqdm.tqdm_notebook(range(0, finish_point, sliding_movement)): # 因為sliding window如果每次只移動一小格，會造成很多看似一樣的圖，所以改每次移動四個sample point(1小時)。\n"
     ]
    },
    {
     "data": {
      "application/vnd.jupyter.widget-view+json": {
       "model_id": "8d1fa7cc60884fea8be9f3510cda553c",
       "version_major": 2,
       "version_minor": 0
      },
      "text/plain": [
       "  0%|          | 0/803 [00:00<?, ?it/s]"
      ]
     },
     "metadata": {},
     "output_type": "display_data"
    },
    {
     "name": "stdout",
     "output_type": "stream",
     "text": [
      "cnn_y[0]: 0.921605949197861\n",
      "buy_date_indexs[0]: 1999-01-29 00:00:00\n",
      "cnn_x.shape: (803, 20)\n",
      "cnn_y.shape: (803,)\n",
      "cnn_y_mean.shape: (803,)\n",
      "buy_date_indexs.shape: (803,)\n",
      "len(stockPrice_series): 4036\n",
      "buy_date_indexs[0]: 1999-01-29 00:00:00\n",
      "buy_date_indexs[-1]: 2015-03-11 00:00:00\n",
      "cnn_y[:10]: [0.92160595 1.05133557 1.08236116 1.01883666 1.01452514 1.04169512\n",
      " 1.02788339 0.99325893 1.03846109 1.0242686 ]\n",
      "cnn_y_label[:10]: [0.92160595 1.05133557 1.08236116 1.01883666 1.01452514 1.04169512\n",
      " 1.02788339 0.         1.03846109 1.0242686 ]\n",
      "cnn_y_label[:10]: [0.92160595 1.         1.         1.         1.         1.\n",
      " 1.         0.         1.         1.        ]\n",
      "cnn_y_label[:10]: [2. 1. 1. 1. 1. 1. 1. 0. 1. 1.]\n",
      "The number of cond_hold: 237\n",
      "The number of cond_up: 313\n",
      "The number of cond_dwon: 253\n"
     ]
    },
    {
     "name": "stderr",
     "output_type": "stream",
     "text": [
      "C:\\Users\\LEAMON~1\\AppData\\Local\\Temp/ipykernel_10276/3288304207.py:26: TqdmDeprecationWarning: This function will be removed in tqdm==5.0.0\n",
      "Please use `tqdm.notebook.tqdm` instead of `tqdm.tqdm_notebook`\n",
      "  for i in tqdm.tqdm_notebook(range(len(cnn_x))):\n"
     ]
    },
    {
     "data": {
      "application/vnd.jupyter.widget-view+json": {
       "model_id": "41cb61c00dc746afb73d13eeb626bdcf",
       "version_major": 2,
       "version_minor": 0
      },
      "text/plain": [
       "  0%|          | 0/803 [00:00<?, ?it/s]"
      ]
     },
     "metadata": {},
     "output_type": "display_data"
    },
    {
     "name": "stdout",
     "output_type": "stream",
     "text": [
      "train Done\n",
      "purpose validation starts: \n"
     ]
    },
    {
     "name": "stderr",
     "output_type": "stream",
     "text": [
      "C:\\Users\\LEAMON~1\\AppData\\Local\\Temp/ipykernel_10276/1267923627.py:25: TqdmDeprecationWarning: This function will be removed in tqdm==5.0.0\n",
      "Please use `tqdm.notebook.tqdm` instead of `tqdm.tqdm_notebook`\n",
      "  for i in tqdm.tqdm_notebook(range(0, finish_point, sliding_movement)): # 因為sliding window如果每次只移動一小格，會造成很多看似一樣的圖，所以改每次移動四個sample point(1小時)。\n"
     ]
    },
    {
     "data": {
      "application/vnd.jupyter.widget-view+json": {
       "model_id": "0dc9b42b93ea4d438efa7bd5f4fd2b15",
       "version_major": 2,
       "version_minor": 0
      },
      "text/plain": [
       "  0%|          | 0/226 [00:00<?, ?it/s]"
      ]
     },
     "metadata": {},
     "output_type": "display_data"
    },
    {
     "name": "stdout",
     "output_type": "stream",
     "text": [
      "cnn_y[0]: 1.0439942006835656\n",
      "buy_date_indexs[0]: 2015-04-20 00:00:00\n",
      "cnn_x.shape: (226, 20)\n",
      "cnn_y.shape: (226,)\n",
      "cnn_y_mean.shape: (226,)\n",
      "buy_date_indexs.shape: (226,)\n",
      "len(stockPrice_series): 1153\n",
      "buy_date_indexs[0]: 2015-04-20 00:00:00\n",
      "buy_date_indexs[-1]: 2019-11-18 00:00:00\n",
      "cnn_y[:10]: [1.0439942  0.98465977 0.98580467 1.00372286 0.99512595 0.99429645\n",
      " 0.9560663  1.00227484 1.02002978 0.99765039]\n",
      "cnn_y_label[:10]: [1.0439942  0.98465977 0.98580467 0.         0.         0.\n",
      " 0.9560663  0.         1.02002978 0.        ]\n",
      "cnn_y_label[:10]: [1.         0.98465977 0.98580467 0.         0.         0.\n",
      " 0.9560663  0.         1.         0.        ]\n",
      "cnn_y_label[:10]: [1. 2. 2. 0. 0. 0. 2. 0. 1. 0.]\n",
      "The number of cond_hold: 98\n",
      "The number of cond_up: 72\n",
      "The number of cond_dwon: 56\n"
     ]
    },
    {
     "name": "stderr",
     "output_type": "stream",
     "text": [
      "C:\\Users\\LEAMON~1\\AppData\\Local\\Temp/ipykernel_10276/3288304207.py:26: TqdmDeprecationWarning: This function will be removed in tqdm==5.0.0\n",
      "Please use `tqdm.notebook.tqdm` instead of `tqdm.tqdm_notebook`\n",
      "  for i in tqdm.tqdm_notebook(range(len(cnn_x))):\n"
     ]
    },
    {
     "data": {
      "application/vnd.jupyter.widget-view+json": {
       "model_id": "19adcd970b7a460d9b85f9d94b42a33b",
       "version_major": 2,
       "version_minor": 0
      },
      "text/plain": [
       "  0%|          | 0/226 [00:00<?, ?it/s]"
      ]
     },
     "metadata": {},
     "output_type": "display_data"
    },
    {
     "name": "stdout",
     "output_type": "stream",
     "text": [
      "validation Done\n",
      "purpose test starts: \n"
     ]
    },
    {
     "name": "stderr",
     "output_type": "stream",
     "text": [
      "C:\\Users\\LEAMON~1\\AppData\\Local\\Temp/ipykernel_10276/1267923627.py:25: TqdmDeprecationWarning: This function will be removed in tqdm==5.0.0\n",
      "Please use `tqdm.notebook.tqdm` instead of `tqdm.tqdm_notebook`\n",
      "  for i in tqdm.tqdm_notebook(range(0, finish_point, sliding_movement)): # 因為sliding window如果每次只移動一小格，會造成很多看似一樣的圖，所以改每次移動四個sample point(1小時)。\n"
     ]
    },
    {
     "data": {
      "application/vnd.jupyter.widget-view+json": {
       "model_id": "9763eba3023840158082b6bf17fadce5",
       "version_major": 2,
       "version_minor": 0
      },
      "text/plain": [
       "  0%|          | 0/111 [00:00<?, ?it/s]"
      ]
     },
     "metadata": {},
     "output_type": "display_data"
    },
    {
     "name": "stdout",
     "output_type": "stream",
     "text": [
      "cnn_y[0]: 1.0091175659382001\n",
      "buy_date_indexs[0]: 2019-12-26 00:00:00\n",
      "cnn_x.shape: (111, 20)\n",
      "cnn_y.shape: (111,)\n",
      "cnn_y_mean.shape: (111,)\n",
      "buy_date_indexs.shape: (111,)\n",
      "len(stockPrice_series): 578\n",
      "buy_date_indexs[0]: 2019-12-26 00:00:00\n",
      "buy_date_indexs[-1]: 2022-04-06 00:00:00\n",
      "cnn_y[:10]: [1.00911757 0.99291685 1.00545879 0.95580172 1.00935624 0.99870885\n",
      " 0.99066442 0.9871857  0.95623379 0.84623477]\n",
      "cnn_y_label[:10]: [0.         0.         0.         0.95580172 0.         0.\n",
      " 0.         0.9871857  0.95623379 0.84623477]\n",
      "cnn_y_label[:10]: [0.         0.         0.         0.95580172 0.         0.\n",
      " 0.         0.9871857  0.95623379 0.84623477]\n",
      "cnn_y_label[:10]: [0. 0. 0. 2. 0. 0. 0. 2. 2. 2.]\n",
      "The number of cond_hold: 38\n",
      "The number of cond_up: 45\n",
      "The number of cond_dwon: 28\n"
     ]
    },
    {
     "name": "stderr",
     "output_type": "stream",
     "text": [
      "C:\\Users\\LEAMON~1\\AppData\\Local\\Temp/ipykernel_10276/3288304207.py:26: TqdmDeprecationWarning: This function will be removed in tqdm==5.0.0\n",
      "Please use `tqdm.notebook.tqdm` instead of `tqdm.tqdm_notebook`\n",
      "  for i in tqdm.tqdm_notebook(range(len(cnn_x))):\n"
     ]
    },
    {
     "data": {
      "application/vnd.jupyter.widget-view+json": {
       "model_id": "777c928cd53e4bb693de3a21659562c4",
       "version_major": 2,
       "version_minor": 0
      },
      "text/plain": [
       "  0%|          | 0/111 [00:00<?, ?it/s]"
      ]
     },
     "metadata": {},
     "output_type": "display_data"
    },
    {
     "name": "stdout",
     "output_type": "stream",
     "text": [
      "test Done\n"
     ]
    },
    {
     "data": {
      "text/plain": [
       "<Figure size 432x288 with 0 Axes>"
      ]
     },
     "metadata": {},
     "output_type": "display_data"
    }
   ],
   "source": [
    "twii_df_train, twii_df_validation, twii_df_test = train_val_test_split(twii_df['台股指數'])\n",
    "lst_twii_dfs = [twii_df_train, twii_df_validation, twii_df_test]\n",
    "im_size = 20\n",
    "\n",
    "for df, purpose in zip(lst_twii_dfs, [\"train\", \"validation\", \"test\"]):\n",
    "    print(f\"purpose {purpose} starts: \")\n",
    "    cnn_x, cnn_y, cnn_y_mean, buy_date_index = convertDf2CNNData(df, 20,5,1,5)\n",
    "    # print(f\"cnn_y[0]: {cnn_y[0]}\")\n",
    "    \n",
    "    cnn_y_label = labelDataWithHold(cnn_y)\n",
    "    # cnn_y_label = labelDataWithHold(cnn_y_mean)\n",
    "    # cnn_y_label = labelDataWithoutHold(cnn_y_mean)\n",
    "    \n",
    "    # print(f\"cnn_y_label[:20]: {cnn_y_label[:20]}\")\n",
    "    # saveCNNInputImage(cnn_x, cnn_y_label, buy_date_index, purpose, im_size, False)\n",
    "    saveCNNInputImage(cnn_x, cnn_y_label, buy_date_index, purpose, im_size, True)\n"
   ]
  },
  {
   "cell_type": "markdown",
   "metadata": {
    "jp-MarkdownHeadingCollapsed": true,
    "tags": []
   },
   "source": [
    "## Reshape features and labels"
   ]
  },
  {
   "cell_type": "code",
   "execution_count": null,
   "metadata": {},
   "outputs": [],
   "source": [
    "cnn_x = cnn_x.reshape(len(cnn_x), time_period, 1)\n",
    "cnn_y = cnn_y.reshape(len(cnn_y), 1)"
   ]
  },
  {
   "cell_type": "markdown",
   "metadata": {},
   "source": [
    "## Split traning and testing data"
   ]
  },
  {
   "cell_type": "code",
   "execution_count": null,
   "metadata": {},
   "outputs": [],
   "source": [
    "import datetime\n",
    "cnn_x_train = cnn_x[indexes < datetime.datetime(2016,1,1)]\n",
    "cnn_y_train = cnn_y[indexes < datetime.datetime(2016,1,1)]"
   ]
  },
  {
   "cell_type": "code",
   "execution_count": null,
   "metadata": {},
   "outputs": [],
   "source": [
    "import matplotlib.pyplot as plt\n",
    "%matplotlib inline\n",
    "plt.plot(cnn_x[0].reshape(1, len(cnn_x[0]))[0])\n"
   ]
  }
 ],
 "metadata": {
  "kernelspec": {
   "display_name": "finlab-official-api",
   "language": "python",
   "name": "finlab-official-api"
  },
  "language_info": {
   "codemirror_mode": {
    "name": "ipython",
    "version": 3
   },
   "file_extension": ".py",
   "mimetype": "text/x-python",
   "name": "python",
   "nbconvert_exporter": "python",
   "pygments_lexer": "ipython3",
   "version": "3.8.10"
  }
 },
 "nbformat": 4,
 "nbformat_minor": 4
}
